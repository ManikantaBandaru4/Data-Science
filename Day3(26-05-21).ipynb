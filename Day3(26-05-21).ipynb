{
 "cells": [
  {
   "cell_type": "code",
   "execution_count": 1,
   "metadata": {},
   "outputs": [
    {
     "name": "stdout",
     "output_type": "stream",
     "text": [
      "Hello World\n"
     ]
    }
   ],
   "source": [
    "print('Hello World')"
   ]
  },
  {
   "cell_type": "markdown",
   "metadata": {},
   "source": [
    "html -> Hyper Text Mrkup Language\n",
    "\n",
    "Markdown"
   ]
  },
  {
   "cell_type": "markdown",
   "metadata": {},
   "source": [
    "# Markdown Syntax\n",
    "## Heading2\n",
    "### Heading3\n",
    "#### Heading4\n",
    "\n",
    "\n",
    "<h1> Markdown Syntax</h1>"
   ]
  },
  {
   "cell_type": "markdown",
   "metadata": {},
   "source": [
    "## Shortcuts for Jupyter Notebook\n",
    "\n",
    "\n",
    "1. Shift+Enter -> Executing the current cell\n",
    "2. Esc+A -> For inserting new cell above the current cell\n",
    "3. Esc+B -> For inserting new cell below the current cell\n",
    "4. Esc+M -> Converting code cell to markdown cell\n",
    "5. Esc+Y -> Converting markdown cell to code cell\n",
    "6. Esc+DD -> Delete the current cell\n",
    "7. Esc+L -> For toggling the cell line numbers\n",
    "8. Ctrl+s -> Save the notebook"
   ]
  },
  {
   "cell_type": "markdown",
   "metadata": {},
   "source": [
    "- Python is easy to learn\n",
    "+ Python is easy to write\n",
    "* Python is high level programming language\n",
    "    - High level means human understandable\n",
    "        - which is in english\n",
    "            - sub\n",
    "        - language\n",
    "    - Interpreter\n",
    "- Also it is object oriented "
   ]
  },
  {
   "cell_type": "markdown",
   "metadata": {},
   "source": [
    "1. Main point\n",
    "    1. Sub\n",
    "        1. sub11\n",
    "    2. sub2"
   ]
  },
  {
   "cell_type": "markdown",
   "metadata": {},
   "source": [
    "### Font Styles\n",
    "\n",
    "- I'm in __Bold__ font style\n",
    "- I'm in **Bold** font style\n",
    "- In *Italic* font\n",
    "- ~Mani~"
   ]
  },
  {
   "cell_type": "markdown",
   "metadata": {},
   "source": [
    "### Insert Image\n",
    "\n",
    "#### Syntax ![Image Description](Image Path)\n",
    "!"
   ]
  },
  {
   "cell_type": "markdown",
   "metadata": {},
   "source": [
    "#### Inserting Hyper link\n",
    "#### [some discription](link)\n",
    "\n"
   ]
  },
  {
   "cell_type": "markdown",
   "metadata": {},
   "source": [
    "### Tabular Data\n",
    "\n",
    "|Name|Rollno|EmailID|\n",
    "|-----|------|------|\n",
    "|raju|46|fygk|\n",
    "|~ravi~|77|vjh|"
   ]
  },
  {
   "cell_type": "markdown",
   "metadata": {},
   "source": [
    "#### Inserting code\n",
    "\n",
    "##### C code\n",
    "```c\n",
    "#include<stdio.h>\n",
    "main()\n",
    "{\n",
    "print('Hello World');\n",
    "}\n",
    "```\n",
    "\n",
    "##### Python code\n",
    "```python\n",
    "print('Hello World')\n",
    "```\n",
    "\n",
    "##### HTML code\n",
    "```html\n",
    "<h1>Heading</h1>\n",
    "```"
   ]
  },
  {
   "cell_type": "markdown",
   "metadata": {},
   "source": [
    "### Quotes\n",
    "\n",
    "> Sun rises in the East\n",
    "\n",
    "Normal Data"
   ]
  },
  {
   "cell_type": "markdown",
   "metadata": {},
   "source": [
    "### Mathematical Formula\n",
    "\n",
    "$$(a + b)^2 = a^2 + 2*a*b + b^2$$\n",
    "\n",
    "a + b whole square formula is $(a_1 + b_1)^2 = {a_1}^2 + 2*a_1*b_1 + {b_1}^2$\n",
    "\n",
    "$\\alpha + \\beta + \\gamma$\n",
    "\n",
    "$\\frac{a}{b}$"
   ]
  },
  {
   "cell_type": "code",
   "execution_count": null,
   "metadata": {},
   "outputs": [],
   "source": []
  }
 ],
 "metadata": {
  "kernelspec": {
   "display_name": "Python 3",
   "language": "python",
   "name": "python3"
  },
  "language_info": {
   "codemirror_mode": {
    "name": "ipython",
    "version": 3
   },
   "file_extension": ".py",
   "mimetype": "text/x-python",
   "name": "python",
   "nbconvert_exporter": "python",
   "pygments_lexer": "ipython3",
   "version": "3.8.5"
  }
 },
 "nbformat": 4,
 "nbformat_minor": 4
}
